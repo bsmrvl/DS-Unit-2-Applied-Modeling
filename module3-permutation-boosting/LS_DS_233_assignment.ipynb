{
 "cells": [
  {
   "cell_type": "markdown",
   "metadata": {
    "colab_type": "text",
    "id": "nCc3XZEyG3XV"
   },
   "source": [
    "Lambda School Data Science\n",
    "\n",
    "*Unit 2, Sprint 3, Module 3*\n",
    "\n",
    "---\n",
    "\n",
    "\n",
    "# Permutation & Boosting\n",
    "\n",
    "You will use your portfolio project dataset for all assignments this sprint.\n",
    "\n",
    "## Assignment\n",
    "\n",
    "Complete these tasks for your project, and document your work.\n",
    "\n",
    "- [ ] If you haven't completed assignment #1, please do so first.\n",
    "- [ ] Continue to clean and explore your data. Make exploratory visualizations.\n",
    "- [ ] Fit a model. Does it beat your baseline? \n",
    "- [ ] Try xgboost.\n",
    "- [ ] Get your model's permutation importances.\n",
    "\n",
    "You should try to complete an initial model today, because the rest of the week, we're making model interpretation visualizations.\n",
    "\n",
    "But, if you aren't ready to try xgboost and permutation importances with your dataset today, that's okay. You can practice with another dataset instead. You may choose any dataset you've worked with previously.\n",
    "\n",
    "The data subdirectory includes the Titanic dataset for classification and the NYC apartments dataset for regression. You may want to choose one of these datasets, because example solutions will be available for each.\n",
    "\n",
    "\n",
    "## Reading\n",
    "\n",
    "Top recommendations in _**bold italic:**_\n",
    "\n",
    "#### Permutation Importances\n",
    "- _**[Kaggle / Dan Becker: Machine Learning Explainability](https://www.kaggle.com/dansbecker/permutation-importance)**_\n",
    "- [Christoph Molnar: Interpretable Machine Learning](https://christophm.github.io/interpretable-ml-book/feature-importance.html)\n",
    "\n",
    "#### (Default) Feature Importances\n",
    "  - [Ando Saabas: Selecting good features, Part 3, Random Forests](https://blog.datadive.net/selecting-good-features-part-iii-random-forests/)\n",
    "  - [Terence Parr, et al: Beware Default Random Forest Importances](https://explained.ai/rf-importance/index.html)\n",
    "\n",
    "#### Gradient Boosting\n",
    "  - [A Gentle Introduction to the Gradient Boosting Algorithm for Machine Learning](https://machinelearningmastery.com/gentle-introduction-gradient-boosting-algorithm-machine-learning/)\n",
    "  - [An Introduction to Statistical Learning](http://www-bcf.usc.edu/~gareth/ISL/ISLR%20Seventh%20Printing.pdf), Chapter 8\n",
    "  - _**[Gradient Boosting Explained](https://www.gormanalysis.com/blog/gradient-boosting-explained/)**_ — Ben Gorman\n",
    "  - [Gradient Boosting Explained](http://arogozhnikov.github.io/2016/06/24/gradient_boosting_explained.html) — Alex Rogozhnikov\n",
    "  - [How to explain gradient boosting](https://explained.ai/gradient-boosting/) — Terence Parr & Jeremy Howard"
   ]
  },
  {
   "cell_type": "code",
   "execution_count": 1,
   "metadata": {},
   "outputs": [],
   "source": [
    "%%capture\n",
    "import sys\n",
    "\n",
    "if 'google.colab' in sys.modules:\n",
    "    DATA_PATH = 'https://raw.githubusercontent.com/bsmrvl/DS-Unit-2-Applied-Modeling/tree/master/data/'\n",
    "    !pip install category_encoders==2.*\n",
    "\n",
    "else:\n",
    "    DATA_PATH = '../data/'"
   ]
  },
  {
   "cell_type": "code",
   "execution_count": 2,
   "metadata": {},
   "outputs": [],
   "source": [
    "import pandas as pd\n",
    "pd.options.display.max_columns = 100\n",
    "import numpy as np\n",
    "import matplotlib.pyplot as plt\n",
    "\n",
    "from category_encoders import OrdinalEncoder\n",
    "from scipy.stats import uniform, truncnorm, randint\n",
    "from xgboost import XGBClassifier\n",
    "\n",
    "from sklearn.inspection import permutation_importance\n",
    "from sklearn.linear_model import LogisticRegression\n",
    "from sklearn.metrics import classification_report, plot_confusion_matrix, precision_score, recall_score\n",
    "from sklearn.model_selection import RandomizedSearchCV, cross_val_score, train_test_split\n",
    "from sklearn.pipeline import make_pipeline"
   ]
  },
  {
   "cell_type": "code",
   "execution_count": 3,
   "metadata": {},
   "outputs": [],
   "source": [
    "## Changing directions a bit, I'm going to try and predict occupation type from\n",
    "## a variety of political questions. I'm reading these cleaned csv's from my last\n",
    "## build.\n",
    "\n",
    "AB_demo = pd.read_csv(DATA_PATH + 'AB_demo.csv').drop(columns=['Unnamed: 0','id'])\n",
    "AB_opinions = pd.read_csv(DATA_PATH + 'AB_opinions.csv').drop(columns=['Unnamed: 0','id'])"
   ]
  },
  {
   "cell_type": "code",
   "execution_count": 4,
   "metadata": {},
   "outputs": [
    {
     "data": {
      "text/plain": [
       "A housewife                                                           4133\n",
       "A governmental employee                                               2165\n",
       "Unemployed                                                            1757\n",
       "A student                                                             1317\n",
       "Private sector employee                                                940\n",
       "Retired                                                                843\n",
       "Owner of a shop/grocery store                                          724\n",
       "Manual laborer                                                         568\n",
       "Craftsperson                                                           408\n",
       "Working at the armed forces or the police                              360\n",
       "Professional such as lawyer, accountant, teacher, doctor, etc.         280\n",
       "Agricultural worker/Owner of a farm                                    243\n",
       "Employer/director of an institution with less than 10 employees        215\n",
       "Director of an institution or a high ranking governmental employee     193\n",
       "Employer/director of an institution with 10 employees or more           81\n",
       "Other                                                                   81\n",
       "Name: occupation, dtype: int64"
      ]
     },
     "execution_count": 4,
     "metadata": {},
     "output_type": "execute_result"
    }
   ],
   "source": [
    "AB_demo['occupation'].value_counts()"
   ]
  },
  {
   "cell_type": "code",
   "execution_count": 5,
   "metadata": {},
   "outputs": [],
   "source": [
    "## I will remove all the \"other\", essentially unemployed categories,\n",
    "## and group the rest into small business and government/big business\n",
    "\n",
    "smallbiz = ['Private sector employee',\n",
    "            'Owner of a shop/grocery store',\n",
    "            'Manual laborer',\n",
    "            'Craftsperson',\n",
    "            'Professional such as lawyer, accountant, teacher, doctor, etc.',\n",
    "            'Agricultural worker/Owner of a farm',\n",
    "            'Employer/director of an institution with less than 10 employees'\n",
    "            ]\n",
    "\n",
    "govbigbiz = ['A governmental employee',\n",
    "             'A student',\n",
    "             'Working at the armed forces or the police',\n",
    "             'Director of an institution or a high ranking governmental employee',\n",
    "             'Employer/director of an institution with 10 employees or more'\n",
    "            ]\n",
    "\n",
    "other = ['A housewife',\n",
    "         'Unemployed',\n",
    "         'Retired',\n",
    "         'Other'\n",
    "        ]\n",
    "\n",
    "def maketarget(cell):\n",
    "    if cell in smallbiz:\n",
    "        return 1\n",
    "    elif cell in govbigbiz:\n",
    "        return 0\n",
    "    else:\n",
    "        return np.NaN"
   ]
  },
  {
   "cell_type": "code",
   "execution_count": 6,
   "metadata": {},
   "outputs": [],
   "source": [
    "AB_demo['occu_cat'] = AB_demo['occupation'].apply(maketarget).astype(float)"
   ]
  },
  {
   "cell_type": "code",
   "execution_count": 7,
   "metadata": {},
   "outputs": [],
   "source": [
    "AB_opinions = AB_opinions.merge(AB_demo[['occu_cat']], left_index=True, right_index=True)"
   ]
  },
  {
   "cell_type": "code",
   "execution_count": 8,
   "metadata": {},
   "outputs": [
    {
     "data": {
      "text/plain": [
       "(4555, 40)"
      ]
     },
     "execution_count": 8,
     "metadata": {},
     "output_type": "execute_result"
    }
   ],
   "source": [
    "AB_opinions = AB_opinions.dropna()\n",
    "AB_opinions.shape"
   ]
  },
  {
   "cell_type": "code",
   "execution_count": 9,
   "metadata": {},
   "outputs": [
    {
     "data": {
      "text/plain": [
       "0.0    0.554775\n",
       "1.0    0.445225\n",
       "Name: occu_cat, dtype: float64"
      ]
     },
     "execution_count": 9,
     "metadata": {},
     "output_type": "execute_result"
    }
   ],
   "source": [
    "## In this case, smallbiz is the positive result, but we can switch them\n",
    "## above to focus on govbigbiz.\n",
    "\n",
    "AB_opinions['occu_cat'].value_counts(normalize=True)"
   ]
  },
  {
   "cell_type": "code",
   "execution_count": 10,
   "metadata": {},
   "outputs": [],
   "source": [
    "X = AB_opinions.drop(columns='occu_cat')\n",
    "y = AB_opinions['occu_cat']"
   ]
  },
  {
   "cell_type": "code",
   "execution_count": 11,
   "metadata": {},
   "outputs": [],
   "source": [
    "X_train, X_test, y_train, y_test = train_test_split(X, y, test_size=.2, random_state=42)"
   ]
  },
  {
   "cell_type": "code",
   "execution_count": 12,
   "metadata": {
    "scrolled": true
   },
   "outputs": [
    {
     "name": "stdout",
     "output_type": "stream",
     "text": [
      "Fitting 5 folds for each of 10 candidates, totalling 50 fits\n"
     ]
    },
    {
     "name": "stderr",
     "output_type": "stream",
     "text": [
      "[Parallel(n_jobs=-1)]: Using backend LokyBackend with 8 concurrent workers.\n",
      "[Parallel(n_jobs=-1)]: Done  34 tasks      | elapsed:    6.2s\n",
      "[Parallel(n_jobs=-1)]: Done  50 out of  50 | elapsed:    7.3s finished\n"
     ]
    },
    {
     "name": "stdout",
     "output_type": "stream",
     "text": [
      "              precision    recall  f1-score   support\n",
      "\n",
      "         0.0       0.56      0.99      0.72       498\n",
      "         1.0       0.90      0.07      0.12       413\n",
      "\n",
      "    accuracy                           0.57       911\n",
      "   macro avg       0.73      0.53      0.42       911\n",
      "weighted avg       0.72      0.57      0.45       911\n",
      "\n"
     ]
    }
   ],
   "source": [
    "## Now, I decided to go for *precision*. This while loop iterates \n",
    "## randomized searches until the precision for the positive target\n",
    "## (which again we can switch between smallbiz and govbigbiz) is\n",
    "## above .9. While loops are dangerous, of course, but I know it\n",
    "## isn't hard to get above .9 in this case. I also have a np randint\n",
    "## determining the seed each time, so that I can record the search seed\n",
    "## which gave me the best parameters.\n",
    "##\n",
    "## Right now, I'm using random state 16, so that you don't have to \n",
    "## sit through the search. \n",
    "\n",
    "classy = XGBClassifier(\n",
    "    random_state=42, \n",
    "    max_depth=2, \n",
    ")\n",
    "\n",
    "params = {\n",
    "    'subsample': truncnorm(a=0,b=1, loc=.5, scale=.1),\n",
    "    'learning_rate': truncnorm(a=0,b=1, loc=.1, scale=.1),\n",
    "    'scale_pos_weight': uniform(.1, .3)\n",
    "}\n",
    "\n",
    "prec = .5\n",
    "recall = .05\n",
    "while prec < .9 or recall < .06:\n",
    "    rand_state = np.random.randint(10, 90)\n",
    "\n",
    "    searcher = RandomizedSearchCV(\n",
    "        classy, \n",
    "        params, \n",
    "        n_jobs=-1,\n",
    "#         random_state=rand_state,\n",
    "        random_state=16,                #### 16 for smallbiz, 25 for govbigbiz\n",
    "        verbose=1,\n",
    "        scoring='precision'\n",
    "    )\n",
    "    searcher.fit(X_train, y_train)\n",
    "    model = searcher.best_estimator_\n",
    "    prec = precision_score(y_test, model.predict(X_test))\n",
    "    recall = recall_score(y_test, model.predict(X_test))\n",
    "    \n",
    "# print('RANDOM STATE:',rand_state)\n",
    "print(classification_report(y_test, model.predict(X_test)))"
   ]
  },
  {
   "cell_type": "code",
   "execution_count": 20,
   "metadata": {},
   "outputs": [
    {
     "data": {
      "text/plain": [
       "<sklearn.metrics._plot.confusion_matrix.ConfusionMatrixDisplay at 0x2a5b58871f0>"
      ]
     },
     "execution_count": 20,
     "metadata": {},
     "output_type": "execute_result"
    },
    {
     "data": {
      "image/png": "[encoded data removed]",
      "text/plain": [
       "<Figure size 432x288 with 2 Axes>"
      ]
     },
     "metadata": {
      "needs_background": "light"
     },
     "output_type": "display_data"
    }
   ],
   "source": [
    "## Of course the recall is terrible. But we're looking for those \n",
    "## positives which our model knows almost *certainly* are positives.\n",
    "## That way, we can analyze the political opinion questions which \n",
    "## most strongly determine occupation group. \n",
    "\n",
    "plot_confusion_matrix(model, X_test, y_test)"
   ]
  },
  {
   "cell_type": "code",
   "execution_count": 14,
   "metadata": {},
   "outputs": [
    {
     "data": {
      "text/plain": [
       "q812a3    0.073268\n",
       "q6056     0.058289\n",
       "q6052     0.041897\n",
       "q6087     0.041598\n",
       "q6054     0.039844\n",
       "dtype: float32"
      ]
     },
     "execution_count": 14,
     "metadata": {},
     "output_type": "execute_result"
    }
   ],
   "source": [
    "## Here's normal feature_importance_, which I won't use.\n",
    "\n",
    "important = pd.Series(model.feature_importances_, index=X.columns)\n",
    "important.sort_values(ascending=False).head()"
   ]
  },
  {
   "cell_type": "code",
   "execution_count": 15,
   "metadata": {},
   "outputs": [],
   "source": [
    "per_imps = permutation_importance(model, X_test, y_test, scoring='precision')\n",
    "more_important = pd.Series(per_imps['importances_mean'], index=X.columns)"
   ]
  },
  {
   "cell_type": "code",
   "execution_count": 16,
   "metadata": {},
   "outputs": [
    {
     "data": {
      "text/plain": [
       "q6052    0.112821\n",
       "q6013    0.057937\n",
       "q6105    0.039295\n",
       "q6082    0.037670\n",
       "q6012    0.030485\n",
       "dtype: float64"
      ]
     },
     "execution_count": 16,
     "metadata": {},
     "output_type": "execute_result"
    }
   ],
   "source": [
    "## Here's the top five features, calculated by permutation importances.\n",
    "\n",
    "top5 = more_important.sort_values(ascending=False).head()\n",
    "top5"
   ]
  },
  {
   "cell_type": "code",
   "execution_count": 17,
   "metadata": {},
   "outputs": [],
   "source": [
    "predictions = pd.Series(model.predict(X_test), index=X_test.index, name='predictions')"
   ]
  },
  {
   "cell_type": "code",
   "execution_count": 18,
   "metadata": {},
   "outputs": [],
   "source": [
    "AB_opinions = AB_opinions.merge(predictions, left_index=True, right_index=True)"
   ]
  },
  {
   "cell_type": "code",
   "execution_count": 19,
   "metadata": {},
   "outputs": [
    {
     "data": {
      "text/html": [
       "<div>\n",
       "<style scoped>\n",
       "    .dataframe tbody tr th:only-of-type {\n",
       "        vertical-align: middle;\n",
       "    }\n",
       "\n",
       "    .dataframe tbody tr th {\n",
       "        vertical-align: top;\n",
       "    }\n",
       "\n",
       "    .dataframe thead th {\n",
       "        text-align: right;\n",
       "    }\n",
       "</style>\n",
       "<table border=\"1\" class=\"dataframe\">\n",
       "  <thead>\n",
       "    <tr style=\"text-align: right;\">\n",
       "      <th></th>\n",
       "      <th>q6052</th>\n",
       "      <th>q6013</th>\n",
       "      <th>q6105</th>\n",
       "      <th>q6082</th>\n",
       "      <th>q6012</th>\n",
       "    </tr>\n",
       "  </thead>\n",
       "  <tbody>\n",
       "    <tr>\n",
       "      <th>count</th>\n",
       "      <td>30.0</td>\n",
       "      <td>30.000000</td>\n",
       "      <td>30.000000</td>\n",
       "      <td>30.000000</td>\n",
       "      <td>30.000000</td>\n",
       "    </tr>\n",
       "    <tr>\n",
       "      <th>mean</th>\n",
       "      <td>-2.0</td>\n",
       "      <td>-0.866667</td>\n",
       "      <td>0.966667</td>\n",
       "      <td>-0.366667</td>\n",
       "      <td>1.433333</td>\n",
       "    </tr>\n",
       "    <tr>\n",
       "      <th>std</th>\n",
       "      <td>0.0</td>\n",
       "      <td>1.775957</td>\n",
       "      <td>1.245221</td>\n",
       "      <td>1.920548</td>\n",
       "      <td>1.381736</td>\n",
       "    </tr>\n",
       "    <tr>\n",
       "      <th>min</th>\n",
       "      <td>-2.0</td>\n",
       "      <td>-2.000000</td>\n",
       "      <td>-2.000000</td>\n",
       "      <td>-2.000000</td>\n",
       "      <td>-2.000000</td>\n",
       "    </tr>\n",
       "    <tr>\n",
       "      <th>25%</th>\n",
       "      <td>-2.0</td>\n",
       "      <td>-2.000000</td>\n",
       "      <td>0.000000</td>\n",
       "      <td>-2.000000</td>\n",
       "      <td>2.000000</td>\n",
       "    </tr>\n",
       "    <tr>\n",
       "      <th>50%</th>\n",
       "      <td>-2.0</td>\n",
       "      <td>-2.000000</td>\n",
       "      <td>1.500000</td>\n",
       "      <td>-2.000000</td>\n",
       "      <td>2.000000</td>\n",
       "    </tr>\n",
       "    <tr>\n",
       "      <th>75%</th>\n",
       "      <td>-2.0</td>\n",
       "      <td>1.250000</td>\n",
       "      <td>2.000000</td>\n",
       "      <td>2.000000</td>\n",
       "      <td>2.000000</td>\n",
       "    </tr>\n",
       "    <tr>\n",
       "      <th>max</th>\n",
       "      <td>-2.0</td>\n",
       "      <td>2.000000</td>\n",
       "      <td>2.000000</td>\n",
       "      <td>2.000000</td>\n",
       "      <td>2.000000</td>\n",
       "    </tr>\n",
       "  </tbody>\n",
       "</table>\n",
       "</div>"
      ],
      "text/plain": [
       "       q6052      q6013      q6105      q6082      q6012\n",
       "count   30.0  30.000000  30.000000  30.000000  30.000000\n",
       "mean    -2.0  -0.866667   0.966667  -0.366667   1.433333\n",
       "std      0.0   1.775957   1.245221   1.920548   1.381736\n",
       "min     -2.0  -2.000000  -2.000000  -2.000000  -2.000000\n",
       "25%     -2.0  -2.000000   0.000000  -2.000000   2.000000\n",
       "50%     -2.0  -2.000000   1.500000  -2.000000   2.000000\n",
       "75%     -2.0   1.250000   2.000000   2.000000   2.000000\n",
       "max     -2.0   2.000000   2.000000   2.000000   2.000000"
      ]
     },
     "execution_count": 19,
     "metadata": {},
     "output_type": "execute_result"
    }
   ],
   "source": [
    "## Here's an overview of those top 5 political questions. I'll go into\n",
    "## detail in my blog.\n",
    "\n",
    "AB_opinions[AB_opinions['predictions'] == 1][top5.index].describe()"
   ]
  },
  {
   "cell_type": "code",
   "execution_count": null,
   "metadata": {},
   "outputs": [],
   "source": []
  }
 ],
 "metadata": {
  "kernelspec": {
   "display_name": "Python 3",
   "language": "python",
   "name": "python3"
  },
  "language_info": {
   "codemirror_mode": {
    "name": "ipython",
    "version": 3
   },
   "file_extension": ".py",
   "mimetype": "text/x-python",
   "name": "python",
   "nbconvert_exporter": "python",
   "pygments_lexer": "ipython3",
   "version": "3.8.6rc1"
  }
 },
 "nbformat": 4,
 "nbformat_minor": 1
}
