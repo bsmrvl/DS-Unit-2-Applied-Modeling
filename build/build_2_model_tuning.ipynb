{
 "cells": [
  {
   "cell_type": "markdown",
   "metadata": {},
   "source": [
    "## Unit 2 Build\n",
    "### Data Preparation and Model Tuning"
   ]
  },
  {
   "cell_type": "code",
   "execution_count": 1,
   "metadata": {},
   "outputs": [],
   "source": [
    "%%capture\n",
    "import sys\n",
    "\n",
    "if 'google.colab' in sys.modules:\n",
    "    DATA_PATH = 'https://raw.githubusercontent.com/bsmrvl/DS-Unit-2-Applied-Modeling/tree/master/data/'\n",
    "    !pip install category_encoders==2.*\n",
    "\n",
    "else:\n",
    "    DATA_PATH = '../data/'"
   ]
  },
  {
   "cell_type": "code",
   "execution_count": 2,
   "metadata": {},
   "outputs": [],
   "source": [
    "import pandas as pd\n",
    "pd.options.display.max_columns = 100\n",
    "import numpy as np\n",
    "np.random.seed = 42\n",
    "import matplotlib.pyplot as plt\n",
    "\n",
    "from category_encoders import OrdinalEncoder\n",
    "from scipy.stats import uniform, truncnorm, randint\n",
    "from xgboost import XGBClassifier\n",
    "\n",
    "from sklearn.inspection import permutation_importance\n",
    "from sklearn.linear_model import LogisticRegression\n",
    "from sklearn.metrics import classification_report, plot_confusion_matrix, precision_score, recall_score, make_scorer\n",
    "from sklearn.model_selection import RandomizedSearchCV, cross_val_score, train_test_split\n",
    "from sklearn.pipeline import make_pipeline"
   ]
  },
  {
   "cell_type": "markdown",
   "metadata": {},
   "source": [
    "You don't see a lot of data wrangling below because I am using the cleaned data from last month's build. Columns are already named and ordinal opinion questions are already manually encoded as integers."
   ]
  },
  {
   "cell_type": "code",
   "execution_count": 3,
   "metadata": {
    "scrolled": true
   },
   "outputs": [],
   "source": [
    "df = pd.read_csv(DATA_PATH + 'ABIII_English.csv', dtype=object)\n",
    "AB_demo = pd.read_csv(DATA_PATH + 'AB_demo.csv').drop(columns=['Unnamed: 0','id'])\n",
    "AB_opinions = pd.read_csv(DATA_PATH + 'AB_opinions.csv').drop(columns=['Unnamed: 0','id'])"
   ]
  },
  {
   "cell_type": "code",
   "execution_count": 4,
   "metadata": {},
   "outputs": [
    {
     "data": {
      "text/html": [
       "<div>\n",
       "<style scoped>\n",
       "    .dataframe tbody tr th:only-of-type {\n",
       "        vertical-align: middle;\n",
       "    }\n",
       "\n",
       "    .dataframe tbody tr th {\n",
       "        vertical-align: top;\n",
       "    }\n",
       "\n",
       "    .dataframe thead th {\n",
       "        text-align: right;\n",
       "    }\n",
       "</style>\n",
       "<table border=\"1\" class=\"dataframe\">\n",
       "  <thead>\n",
       "    <tr style=\"text-align: right;\">\n",
       "      <th></th>\n",
       "      <th>country</th>\n",
       "      <th>urb/rur</th>\n",
       "      <th>age</th>\n",
       "      <th>sex</th>\n",
       "      <th>education</th>\n",
       "      <th>years_edu</th>\n",
       "      <th>work?</th>\n",
       "      <th>occupation</th>\n",
       "      <th>mar_status</th>\n",
       "      <th>spouse_job</th>\n",
       "      <th>housing</th>\n",
       "      <th>car</th>\n",
       "      <th>computer</th>\n",
       "      <th>income</th>\n",
       "      <th>household_income</th>\n",
       "      <th>participate</th>\n",
       "      <th>why_par</th>\n",
       "      <th>why_not_par</th>\n",
       "    </tr>\n",
       "  </thead>\n",
       "  <tbody>\n",
       "    <tr>\n",
       "      <th>0</th>\n",
       "      <td>Algeria</td>\n",
       "      <td>Urban</td>\n",
       "      <td>40.0</td>\n",
       "      <td>Male</td>\n",
       "      <td>Prepartory/Basic</td>\n",
       "      <td>8.0</td>\n",
       "      <td>Yes</td>\n",
       "      <td>Private sector employee</td>\n",
       "      <td>Married</td>\n",
       "      <td>Housewife</td>\n",
       "      <td>Owned</td>\n",
       "      <td>Yes</td>\n",
       "      <td>No</td>\n",
       "      <td>19000.0</td>\n",
       "      <td>38000.0</td>\n",
       "      <td>No, I did not</td>\n",
       "      <td>NaN</td>\n",
       "      <td>I did not care to participate / It was not imp...</td>\n",
       "    </tr>\n",
       "    <tr>\n",
       "      <th>1</th>\n",
       "      <td>Algeria</td>\n",
       "      <td>Urban</td>\n",
       "      <td>41.0</td>\n",
       "      <td>Female</td>\n",
       "      <td>Mid-level diploma (professional or technical</td>\n",
       "      <td>14.0</td>\n",
       "      <td>Yes</td>\n",
       "      <td>A governmental employee</td>\n",
       "      <td>Married</td>\n",
       "      <td>Professional such as lawyer, accountant, teach...</td>\n",
       "      <td>Rented</td>\n",
       "      <td>Yes</td>\n",
       "      <td>Yes</td>\n",
       "      <td>NaN</td>\n",
       "      <td>NaN</td>\n",
       "      <td>No, I did not</td>\n",
       "      <td>NaN</td>\n",
       "      <td>I did not care to participate / It was not imp...</td>\n",
       "    </tr>\n",
       "    <tr>\n",
       "      <th>2</th>\n",
       "      <td>Algeria</td>\n",
       "      <td>Urban</td>\n",
       "      <td>44.0</td>\n",
       "      <td>Male</td>\n",
       "      <td>Elementary</td>\n",
       "      <td>5.0</td>\n",
       "      <td>Yes</td>\n",
       "      <td>A governmental employee</td>\n",
       "      <td>Bachelor</td>\n",
       "      <td>NaN</td>\n",
       "      <td>Other</td>\n",
       "      <td>Yes</td>\n",
       "      <td>Yes</td>\n",
       "      <td>20000.0</td>\n",
       "      <td>30000.0</td>\n",
       "      <td>No, I did not</td>\n",
       "      <td>NaN</td>\n",
       "      <td>Refuse</td>\n",
       "    </tr>\n",
       "  </tbody>\n",
       "</table>\n",
       "</div>"
      ],
      "text/plain": [
       "   country urb/rur   age     sex  \\\n",
       "0  Algeria   Urban  40.0    Male   \n",
       "1  Algeria   Urban  41.0  Female   \n",
       "2  Algeria   Urban  44.0    Male   \n",
       "\n",
       "                                      education  years_edu work?  \\\n",
       "0                              Prepartory/Basic        8.0   Yes   \n",
       "1  Mid-level diploma (professional or technical       14.0   Yes   \n",
       "2                                    Elementary        5.0   Yes   \n",
       "\n",
       "                occupation mar_status  \\\n",
       "0  Private sector employee    Married   \n",
       "1  A governmental employee    Married   \n",
       "2  A governmental employee   Bachelor   \n",
       "\n",
       "                                          spouse_job housing  car computer  \\\n",
       "0                                          Housewife   Owned  Yes       No   \n",
       "1  Professional such as lawyer, accountant, teach...  Rented  Yes      Yes   \n",
       "2                                                NaN   Other  Yes      Yes   \n",
       "\n",
       "    income  household_income    participate why_par  \\\n",
       "0  19000.0           38000.0  No, I did not     NaN   \n",
       "1      NaN               NaN  No, I did not     NaN   \n",
       "2  20000.0           30000.0  No, I did not     NaN   \n",
       "\n",
       "                                         why_not_par  \n",
       "0  I did not care to participate / It was not imp...  \n",
       "1  I did not care to participate / It was not imp...  \n",
       "2                                             Refuse  "
      ]
     },
     "execution_count": 4,
     "metadata": {},
     "output_type": "execute_result"
    }
   ],
   "source": [
    "AB_demo.head(3)"
   ]
  },
  {
   "cell_type": "code",
   "execution_count": 5,
   "metadata": {},
   "outputs": [
    {
     "data": {
      "text/html": [
       "<div>\n",
       "<style scoped>\n",
       "    .dataframe tbody tr th:only-of-type {\n",
       "        vertical-align: middle;\n",
       "    }\n",
       "\n",
       "    .dataframe tbody tr th {\n",
       "        vertical-align: top;\n",
       "    }\n",
       "\n",
       "    .dataframe thead th {\n",
       "        text-align: right;\n",
       "    }\n",
       "</style>\n",
       "<table border=\"1\" class=\"dataframe\">\n",
       "  <thead>\n",
       "    <tr style=\"text-align: right;\">\n",
       "      <th></th>\n",
       "      <th>q6012</th>\n",
       "      <th>q6013</th>\n",
       "      <th>q6014</th>\n",
       "      <th>q6041</th>\n",
       "      <th>q6043</th>\n",
       "      <th>q6045</th>\n",
       "      <th>q6051</th>\n",
       "      <th>q6052</th>\n",
       "      <th>q6053</th>\n",
       "      <th>q6054</th>\n",
       "      <th>q6055</th>\n",
       "      <th>q6056</th>\n",
       "      <th>q605b1</th>\n",
       "      <th>q605b2</th>\n",
       "      <th>q6061</th>\n",
       "      <th>q6062</th>\n",
       "      <th>q6063</th>\n",
       "      <th>q6064</th>\n",
       "      <th>q6065</th>\n",
       "      <th>q6066</th>\n",
       "      <th>q6071</th>\n",
       "      <th>q6072</th>\n",
       "      <th>q6073</th>\n",
       "      <th>q6074</th>\n",
       "      <th>q6076</th>\n",
       "      <th>q6082</th>\n",
       "      <th>q6087</th>\n",
       "      <th>q6101</th>\n",
       "      <th>q6105</th>\n",
       "      <th>q6106</th>\n",
       "      <th>q810a</th>\n",
       "      <th>q812a1</th>\n",
       "      <th>q812a2</th>\n",
       "      <th>q812a3</th>\n",
       "      <th>q812a4</th>\n",
       "      <th>q812a5</th>\n",
       "      <th>q812a6</th>\n",
       "      <th>q812a7</th>\n",
       "      <th>q812a8</th>\n",
       "    </tr>\n",
       "  </thead>\n",
       "  <tbody>\n",
       "    <tr>\n",
       "      <th>0</th>\n",
       "      <td>2.0</td>\n",
       "      <td>2.0</td>\n",
       "      <td>-1.0</td>\n",
       "      <td>1.0</td>\n",
       "      <td>-1.0</td>\n",
       "      <td>-2.0</td>\n",
       "      <td>2.0</td>\n",
       "      <td>1.0</td>\n",
       "      <td>-1.0</td>\n",
       "      <td>2.0</td>\n",
       "      <td>1.0</td>\n",
       "      <td>2.0</td>\n",
       "      <td>2.0</td>\n",
       "      <td>1.0</td>\n",
       "      <td>1.0</td>\n",
       "      <td>1.0</td>\n",
       "      <td>1.0</td>\n",
       "      <td>1.0</td>\n",
       "      <td>1.0</td>\n",
       "      <td>2.0</td>\n",
       "      <td>-1.0</td>\n",
       "      <td>-1.0</td>\n",
       "      <td>2.0</td>\n",
       "      <td>2.0</td>\n",
       "      <td>2.0</td>\n",
       "      <td>2.0</td>\n",
       "      <td>2.0</td>\n",
       "      <td>2.0</td>\n",
       "      <td>2.0</td>\n",
       "      <td>1.0</td>\n",
       "      <td>-1.0</td>\n",
       "      <td>1.0</td>\n",
       "      <td>1.0</td>\n",
       "      <td>1.0</td>\n",
       "      <td>1.0</td>\n",
       "      <td>2.0</td>\n",
       "      <td>2.0</td>\n",
       "      <td>2.0</td>\n",
       "      <td>2.0</td>\n",
       "    </tr>\n",
       "    <tr>\n",
       "      <th>1</th>\n",
       "      <td>-1.0</td>\n",
       "      <td>2.0</td>\n",
       "      <td>-1.0</td>\n",
       "      <td>-1.0</td>\n",
       "      <td>-1.0</td>\n",
       "      <td>-1.0</td>\n",
       "      <td>2.0</td>\n",
       "      <td>2.0</td>\n",
       "      <td>2.0</td>\n",
       "      <td>2.0</td>\n",
       "      <td>2.0</td>\n",
       "      <td>2.0</td>\n",
       "      <td>2.0</td>\n",
       "      <td>2.0</td>\n",
       "      <td>99.0</td>\n",
       "      <td>99.0</td>\n",
       "      <td>99.0</td>\n",
       "      <td>99.0</td>\n",
       "      <td>99.0</td>\n",
       "      <td>99.0</td>\n",
       "      <td>99.0</td>\n",
       "      <td>1.0</td>\n",
       "      <td>1.0</td>\n",
       "      <td>1.0</td>\n",
       "      <td>1.0</td>\n",
       "      <td>99.0</td>\n",
       "      <td>99.0</td>\n",
       "      <td>2.0</td>\n",
       "      <td>1.0</td>\n",
       "      <td>0.0</td>\n",
       "      <td>-1.0</td>\n",
       "      <td>2.0</td>\n",
       "      <td>2.0</td>\n",
       "      <td>2.0</td>\n",
       "      <td>2.0</td>\n",
       "      <td>-1.0</td>\n",
       "      <td>-1.0</td>\n",
       "      <td>2.0</td>\n",
       "      <td>2.0</td>\n",
       "    </tr>\n",
       "    <tr>\n",
       "      <th>2</th>\n",
       "      <td>1.0</td>\n",
       "      <td>1.0</td>\n",
       "      <td>-2.0</td>\n",
       "      <td>2.0</td>\n",
       "      <td>-1.0</td>\n",
       "      <td>-1.0</td>\n",
       "      <td>-1.0</td>\n",
       "      <td>1.0</td>\n",
       "      <td>1.0</td>\n",
       "      <td>-1.0</td>\n",
       "      <td>1.0</td>\n",
       "      <td>1.0</td>\n",
       "      <td>2.0</td>\n",
       "      <td>99.0</td>\n",
       "      <td>1.0</td>\n",
       "      <td>-1.0</td>\n",
       "      <td>-1.0</td>\n",
       "      <td>1.0</td>\n",
       "      <td>1.0</td>\n",
       "      <td>1.0</td>\n",
       "      <td>-1.0</td>\n",
       "      <td>-1.0</td>\n",
       "      <td>-1.0</td>\n",
       "      <td>-1.0</td>\n",
       "      <td>-1.0</td>\n",
       "      <td>99.0</td>\n",
       "      <td>99.0</td>\n",
       "      <td>NaN</td>\n",
       "      <td>NaN</td>\n",
       "      <td>NaN</td>\n",
       "      <td>-1.0</td>\n",
       "      <td>1.0</td>\n",
       "      <td>1.0</td>\n",
       "      <td>1.0</td>\n",
       "      <td>1.0</td>\n",
       "      <td>-2.0</td>\n",
       "      <td>-2.0</td>\n",
       "      <td>2.0</td>\n",
       "      <td>2.0</td>\n",
       "    </tr>\n",
       "  </tbody>\n",
       "</table>\n",
       "</div>"
      ],
      "text/plain": [
       "   q6012  q6013  q6014  q6041  q6043  q6045  q6051  q6052  q6053  q6054  \\\n",
       "0    2.0    2.0   -1.0    1.0   -1.0   -2.0    2.0    1.0   -1.0    2.0   \n",
       "1   -1.0    2.0   -1.0   -1.0   -1.0   -1.0    2.0    2.0    2.0    2.0   \n",
       "2    1.0    1.0   -2.0    2.0   -1.0   -1.0   -1.0    1.0    1.0   -1.0   \n",
       "\n",
       "   q6055  q6056  q605b1  q605b2  q6061  q6062  q6063  q6064  q6065  q6066  \\\n",
       "0    1.0    2.0     2.0     1.0    1.0    1.0    1.0    1.0    1.0    2.0   \n",
       "1    2.0    2.0     2.0     2.0   99.0   99.0   99.0   99.0   99.0   99.0   \n",
       "2    1.0    1.0     2.0    99.0    1.0   -1.0   -1.0    1.0    1.0    1.0   \n",
       "\n",
       "   q6071  q6072  q6073  q6074  q6076  q6082  q6087  q6101  q6105  q6106  \\\n",
       "0   -1.0   -1.0    2.0    2.0    2.0    2.0    2.0    2.0    2.0    1.0   \n",
       "1   99.0    1.0    1.0    1.0    1.0   99.0   99.0    2.0    1.0    0.0   \n",
       "2   -1.0   -1.0   -1.0   -1.0   -1.0   99.0   99.0    NaN    NaN    NaN   \n",
       "\n",
       "   q810a  q812a1  q812a2  q812a3  q812a4  q812a5  q812a6  q812a7  q812a8  \n",
       "0   -1.0     1.0     1.0     1.0     1.0     2.0     2.0     2.0     2.0  \n",
       "1   -1.0     2.0     2.0     2.0     2.0    -1.0    -1.0     2.0     2.0  \n",
       "2   -1.0     1.0     1.0     1.0     1.0    -2.0    -2.0     2.0     2.0  "
      ]
     },
     "execution_count": 5,
     "metadata": {},
     "output_type": "execute_result"
    }
   ],
   "source": [
    "AB_opinions.head(3)"
   ]
  },
  {
   "cell_type": "code",
   "execution_count": 6,
   "metadata": {},
   "outputs": [
    {
     "data": {
      "text/plain": [
       "(8139, 39)"
      ]
     },
     "execution_count": 6,
     "metadata": {},
     "output_type": "execute_result"
    }
   ],
   "source": [
    "AB_opinions.replace(99, np.NaN).dropna().shape"
   ]
  },
  {
   "cell_type": "code",
   "execution_count": 7,
   "metadata": {},
   "outputs": [],
   "source": [
    "AB_opinions = AB_opinions.replace(99, np.NaN).dropna()"
   ]
  },
  {
   "cell_type": "markdown",
   "metadata": {},
   "source": [
    "Rather than classifying 16 classes, I approximately grouped \"working class\" occupations into one class, and government/big business occupations into the other. I dropped \"housewife\", \"unemployed\", \"retired\", and \"other\"."
   ]
  },
  {
   "cell_type": "code",
   "execution_count": 8,
   "metadata": {},
   "outputs": [],
   "source": [
    "smallbiz = ['Private sector employee',\n",
    "            'Owner of a shop/grocery store',\n",
    "            'Manual laborer',\n",
    "            'Craftsperson',\n",
    "            'Professional such as lawyer, accountant, teacher, doctor, etc.',\n",
    "            'Agricultural worker/Owner of a farm',\n",
    "            'Employer/director of an institution with less than 10 employees'\n",
    "            ]\n",
    "\n",
    "govbigbiz = ['A governmental employee',\n",
    "             'A student',\n",
    "             'Working at the armed forces or the police',\n",
    "             'Director of an institution or a high ranking governmental employee',\n",
    "             'Employer/director of an institution with 10 employees or more'\n",
    "            ]\n",
    "\n",
    "other = ['A housewife',\n",
    "         'Unemployed',\n",
    "         'Retired',\n",
    "         'Other'\n",
    "        ]\n",
    "\n",
    "\n",
    "\n",
    "def maketarget(cell):\n",
    "    if cell in smallbiz:           ### In tuning my govbigbiz model, I changed this function so that those\n",
    "        return 1                   ### in the govbigbiz category would return positive.\n",
    "    elif cell in govbigbiz:\n",
    "        return 0\n",
    "    else:\n",
    "        return np.NaN"
   ]
  },
  {
   "cell_type": "code",
   "execution_count": 9,
   "metadata": {},
   "outputs": [],
   "source": [
    "AB_demo['occu_cat'] = AB_demo['occupation'].apply(maketarget).astype(float)\n",
    "AB_opinions = AB_opinions.merge(AB_demo[['occu_cat']], left_index=True, right_index=True)\n",
    "AB_opinions = AB_opinions.dropna()"
   ]
  },
  {
   "cell_type": "code",
   "execution_count": 10,
   "metadata": {},
   "outputs": [
    {
     "data": {
      "text/plain": [
       "(4555, 40)"
      ]
     },
     "execution_count": 10,
     "metadata": {},
     "output_type": "execute_result"
    }
   ],
   "source": [
    "AB_opinions.shape"
   ]
  },
  {
   "cell_type": "code",
   "execution_count": 11,
   "metadata": {},
   "outputs": [],
   "source": [
    "X = AB_opinions.drop(columns='occu_cat')\n",
    "y = AB_opinions['occu_cat']\n",
    "\n",
    "X_train, X_test, y_train, y_test = train_test_split(X, y, test_size=.2, random_state=42)"
   ]
  },
  {
   "cell_type": "markdown",
   "metadata": {},
   "source": [
    "I used a custom scorer function in my randomzed search. I'm not sure how effective it was, but I wanted to aim for specific precision/recall values rather than totally optimizing for each one. I was mainly optimizing for precision, but didn't want it to be so high that my recall sank below .05."
   ]
  },
  {
   "cell_type": "code",
   "execution_count": 12,
   "metadata": {},
   "outputs": [],
   "source": [
    "def custom_score(y_true, y_pred):\n",
    "    prec = precision_score(y_true, y_pred)\n",
    "    recall = recall_score(y_true, y_pred)\n",
    "    error = abs(prec - .9) + abs(recall - .05)\n",
    "    return error\n",
    "\n",
    "my_scorer = make_scorer(custom_score, greater_is_better=False)"
   ]
  },
  {
   "cell_type": "markdown",
   "metadata": {},
   "source": [
    "Here it is, the bizarre search loop. Rather than running a randomized search for 5 hours and coming back to see what I got, I decided to loop through 10 iterations at a time (each loop taking just a few seconds), saving my random state so I could recreate the iterations which produced the best scores. This also allowed me to watch the search in real time to see if I was on the right track."
   ]
  },
  {
   "cell_type": "code",
   "execution_count": 13,
   "metadata": {},
   "outputs": [
    {
     "name": "stdout",
     "output_type": "stream",
     "text": [
      "RANDOM STATE: 73\n",
      "Fitting 5 folds for each of 10 candidates, totalling 50 fits\n"
     ]
    },
    {
     "name": "stderr",
     "output_type": "stream",
     "text": [
      "[Parallel(n_jobs=-1)]: Using backend LokyBackend with 8 concurrent workers.\n",
      "[Parallel(n_jobs=-1)]: Done  34 tasks      | elapsed:    7.8s\n",
      "[Parallel(n_jobs=-1)]: Done  50 out of  50 | elapsed:    9.5s finished\n"
     ]
    },
    {
     "name": "stdout",
     "output_type": "stream",
     "text": [
      "0.875 0.06779661016949153\n",
      "RANDOM STATE: 73\n",
      "              precision    recall  f1-score   support\n",
      "\n",
      "         0.0       0.56      0.99      0.72       498\n",
      "         1.0       0.88      0.07      0.13       413\n",
      "\n",
      "    accuracy                           0.57       911\n",
      "   macro avg       0.72      0.53      0.42       911\n",
      "weighted avg       0.70      0.57      0.45       911\n",
      "\n"
     ]
    }
   ],
   "source": [
    "classy = XGBClassifier(\n",
    "    random_state=42, \n",
    "    max_depth=2, \n",
    ")\n",
    "\n",
    "params = {\n",
    "    'subsample': truncnorm(a=0,b=1, loc=.5, scale=.1),\n",
    "    'learning_rate': truncnorm(a=0,b=1, loc=.1, scale=.1),\n",
    "    'scale_pos_weight': uniform(.05, .4)\n",
    "}\n",
    "\n",
    "prec = .5\n",
    "recall = .05\n",
    "while prec < .85 or recall < .03:\n",
    "    rand_state = np.random.randint(10, 90)\n",
    "    print('RANDOM STATE:',rand_state)\n",
    "\n",
    "    searcher = RandomizedSearchCV(\n",
    "        classy, \n",
    "        params, \n",
    "        n_jobs=-1,\n",
    "        random_state=rand_state,\n",
    "#         random_state=28,                #### 16 for smallbiz, 28 for govbigbiz\n",
    "        verbose=1,\n",
    "        scoring=my_scorer\n",
    "    )\n",
    "    searcher.fit(X_train, y_train)\n",
    "    model = searcher.best_estimator_\n",
    "    prec = precision_score(y_test, model.predict(X_test))\n",
    "    recall = recall_score(y_test, model.predict(X_test))\n",
    "    print(prec, recall)\n",
    "    \n",
    "print('RANDOM STATE:',rand_state)\n",
    "print(classification_report(y_test, model.predict(X_test)))"
   ]
  },
  {
   "cell_type": "code",
   "execution_count": 14,
   "metadata": {},
   "outputs": [
    {
     "data": {
      "image/png": "[encoded data removed]",
      "text/plain": [
       "<Figure size 432x288 with 2 Axes>"
      ]
     },
     "metadata": {
      "needs_background": "light"
     },
     "output_type": "display_data"
    }
   ],
   "source": [
    "plot_confusion_matrix(model, X_test, y_test);"
   ]
  },
  {
   "cell_type": "markdown",
   "metadata": {},
   "source": [
    "The scores here are not the ones I used in the final. Go to the build_2_model_analysis file to see the rest!"
   ]
  }
 ],
 "metadata": {
  "kernelspec": {
   "display_name": "Python 3",
   "language": "python",
   "name": "python3"
  },
  "language_info": {
   "codemirror_mode": {
    "name": "ipython",
    "version": 3
   },
   "file_extension": ".py",
   "mimetype": "text/x-python",
   "name": "python",
   "nbconvert_exporter": "python",
   "pygments_lexer": "ipython3",
   "version": "3.8.6rc1"
  }
 },
 "nbformat": 4,
 "nbformat_minor": 4
}
