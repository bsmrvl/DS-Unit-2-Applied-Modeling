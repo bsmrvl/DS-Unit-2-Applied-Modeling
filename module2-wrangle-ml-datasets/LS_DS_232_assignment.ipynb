{
 "cells": [
  {
   "cell_type": "markdown",
   "metadata": {},
   "source": [
    "Lambda School Data Science\n",
    "\n",
    "*Unit 2, Sprint 3, Module 2*\n",
    "\n",
    "---\n",
    "\n",
    "\n",
    "# Wrangle ML datasets\n",
    "\n",
    "- [ ] Continue to clean and explore your data. \n",
    "- [ ] For the evaluation metric you chose, what score would you get just by guessing?\n",
    "- [ ] Can you make a fast, first model that beats guessing?\n",
    "\n",
    "**We recommend that you use your portfolio project dataset for all assignments this sprint.**\n",
    "\n",
    "**But if you aren't ready yet, or you want more practice, then use the New York City property sales dataset for today's assignment.** Follow the instructions below, to just keep a subset for the Tribeca neighborhood, and remove outliers or dirty data. [Here's a video walkthrough](https://youtu.be/pPWFw8UtBVg?t=584) you can refer to if you get stuck or want hints!\n",
    "\n",
    "- Data Source: [NYC OpenData: NYC Citywide Rolling Calendar Sales](https://data.cityofnewyork.us/dataset/NYC-Citywide-Rolling-Calendar-Sales/usep-8jbt)\n",
    "- Glossary: [NYC Department of Finance: Rolling Sales Data](https://www1.nyc.gov/site/finance/taxes/property-rolling-sales-data.page)"
   ]
  },
  {
   "cell_type": "code",
   "execution_count": 1,
   "metadata": {},
   "outputs": [],
   "source": [
    "%%capture\n",
    "import sys\n",
    "\n",
    "if 'google.colab' in sys.modules:\n",
    "    DATA_PATH = 'https://raw.githubusercontent.com/bsmrvl/DS-Unit-2-Applied-Modeling/tree/master/data/'\n",
    "    !pip install category_encoders==2.*\n",
    "\n",
    "else:\n",
    "    DATA_PATH = '../data/'"
   ]
  },
  {
   "cell_type": "code",
   "execution_count": 2,
   "metadata": {},
   "outputs": [],
   "source": [
    "import pandas as pd\n",
    "pd.options.display.max_columns = 100\n",
    "import numpy as np\n",
    "import matplotlib.pyplot as plt\n",
    "\n",
    "from category_encoders import OrdinalEncoder\n",
    "from sklearn.model_selection import train_test_split\n",
    "from sklearn.pipeline import make_pipeline\n",
    "from sklearn.tree import DecisionTreeClassifier\n",
    "from sklearn.ensemble import RandomForestClassifier\n",
    "from sklearn.linear_model import LogisticRegression\n",
    "from sklearn.preprocessing import StandardScaler\n",
    "from sklearn.metrics import plot_roc_curve, classification_report"
   ]
  },
  {
   "cell_type": "code",
   "execution_count": 3,
   "metadata": {},
   "outputs": [],
   "source": [
    "df = pd.read_csv(DATA_PATH + 'ABIII_English.csv', dtype=object, parse_dates=['date'])"
   ]
  },
  {
   "cell_type": "code",
   "execution_count": 4,
   "metadata": {},
   "outputs": [],
   "source": [
    "def nulls(df):\n",
    "    nulls = df.isnull().sum()\n",
    "    return nulls[nulls>0]"
   ]
  },
  {
   "cell_type": "code",
   "execution_count": 5,
   "metadata": {},
   "outputs": [],
   "source": [
    "## Create combined target. Remove the ~5% of data that doesn't fall into the top\n",
    "## three classes.\n",
    "\n",
    "# df['target'] = (df['q301'] + df['q302']).replace({'YesYes':'Voted, attended campaign activities',\n",
    "#                                                   'YesNo':'Voted, did not attend campaign activities',\n",
    "#                                                   'NoNo':'Neither voted nor attended activities'})\n",
    "# target_options = ['Voted, attended campaign activities',\n",
    "#                   'Voted, did not attend campaign activities',\n",
    "#                   'Neither voted nor attended activities']\n",
    "\n",
    "# df = df[df['target'].isin(target_options)]\n",
    "\n",
    "# df = df.drop(columns=['q301', 'q302'])\n",
    "# df = df.drop(columns=['qid','bid'])\n",
    "# df = df.drop(columns=['q1002','wt','form','samp'])"
   ]
  },
  {
   "cell_type": "code",
   "execution_count": 6,
   "metadata": {},
   "outputs": [
    {
     "data": {
      "text/plain": [
       "Yes    0.582516\n",
       "No     0.417484\n",
       "Name: target, dtype: float64"
      ]
     },
     "execution_count": 6,
     "metadata": {},
     "output_type": "execute_result"
    }
   ],
   "source": [
    "df['target'] = df['q301']\n",
    "target_options = ['Yes','No']\n",
    "df = df[df['target'].isin(target_options)]\n",
    "df['target'].value_counts(normalize=True)"
   ]
  },
  {
   "cell_type": "code",
   "execution_count": 7,
   "metadata": {},
   "outputs": [],
   "source": [
    "df_VI = df.loc[:,'q6012':'q618']"
   ]
  },
  {
   "cell_type": "code",
   "execution_count": 8,
   "metadata": {},
   "outputs": [],
   "source": [
    "df_VI['q608'] = df_VI['q608a'].replace(np.NaN, '') + df_VI['q608b'].replace(np.NaN, '')\n",
    "df_VI = df_VI.drop(columns=['q608a','q608b'])"
   ]
  },
  {
   "cell_type": "code",
   "execution_count": 9,
   "metadata": {},
   "outputs": [],
   "source": [
    "df_VI['q617'] = df_VI['q617'].replace(np.NaN, 'Missing')\n",
    "df_VI['q618'] = df_VI['q618'].replace(np.NaN, 'Missing')"
   ]
  },
  {
   "cell_type": "code",
   "execution_count": 10,
   "metadata": {},
   "outputs": [
    {
     "data": {
      "text/plain": [
       "q7006       2418\n",
       "q7007       6469\n",
       "q7008       6551\n",
       "q7009      10066\n",
       "q70010     10066\n",
       "q70011     13674\n",
       "q70012     13447\n",
       "q70013     13447\n",
       "q70014     13447\n",
       "q70015     13447\n",
       "q70016     13447\n",
       "q700a6      2418\n",
       "q700a7      5277\n",
       "q700a8      5359\n",
       "q700a9     10066\n",
       "q700a10    10066\n",
       "q700a11    13674\n",
       "q700a12    13447\n",
       "q700a13    13447\n",
       "q700a14    13447\n",
       "q700a15    13447\n",
       "q700a16    13447\n",
       "q701c       3465\n",
       "q701d1      2255\n",
       "q701d2      2255\n",
       "q708a      10516\n",
       "q708kw     13674\n",
       "dtype: int64"
      ]
     },
     "execution_count": 10,
     "metadata": {},
     "output_type": "execute_result"
    }
   ],
   "source": [
    "df_VII = df.loc[:,'q7001':'q713']\n",
    "nulls(df_VII)"
   ]
  },
  {
   "cell_type": "code",
   "execution_count": 11,
   "metadata": {},
   "outputs": [
    {
     "data": {
      "text/plain": [
       "q7006     2418\n",
       "q700a6    2418\n",
       "q701c     3465\n",
       "q701d1    2255\n",
       "q701d2    2255\n",
       "dtype: int64"
      ]
     },
     "execution_count": 11,
     "metadata": {},
     "output_type": "execute_result"
    }
   ],
   "source": [
    "df_VII = df_VII.dropna(thresh=10000, axis=1)\n",
    "nulls(df_VII)"
   ]
  },
  {
   "cell_type": "code",
   "execution_count": 12,
   "metadata": {},
   "outputs": [],
   "source": [
    "df_VII = df_VII.replace(np.NaN, 'Not asked')"
   ]
  },
  {
   "cell_type": "code",
   "execution_count": 13,
   "metadata": {},
   "outputs": [
    {
     "data": {
      "text/plain": [
       "q5016      2802\n",
       "q5017      5717\n",
       "q50111    12308\n",
       "q5152         7\n",
       "q518a2     7345\n",
       "q518b2     7343\n",
       "q5202       791\n",
       "q5203       791\n",
       "q5204       791\n",
       "q5206       791\n",
       "q5207       791\n",
       "q5208       791\n",
       "q5224      1192\n",
       "dtype: int64"
      ]
     },
     "execution_count": 13,
     "metadata": {},
     "output_type": "execute_result"
    }
   ],
   "source": [
    "df_V = df.loc[:,'q5012':'q530']\n",
    "nulls(df_V)"
   ]
  },
  {
   "cell_type": "code",
   "execution_count": 14,
   "metadata": {},
   "outputs": [
    {
     "data": {
      "text/plain": [
       "q5016      2802\n",
       "q5017      5717\n",
       "q50111    12308\n",
       "q5152         7\n",
       "q5202       791\n",
       "q5203       791\n",
       "q5204       791\n",
       "q5206       791\n",
       "q5207       791\n",
       "q5208       791\n",
       "q5224      1192\n",
       "dtype: int64"
      ]
     },
     "execution_count": 14,
     "metadata": {},
     "output_type": "execute_result"
    }
   ],
   "source": [
    "df_V['q5182'] = df_V['q518a2'].replace(np.NaN, '') + df_V['q518b2'].replace(np.NaN, '')\n",
    "df_V = df_V.drop(columns=['q518a2','q518b2'])\n",
    "nulls(df_V)"
   ]
  },
  {
   "cell_type": "code",
   "execution_count": 15,
   "metadata": {},
   "outputs": [
    {
     "data": {
      "text/plain": [
       "q5016    2802\n",
       "q5152       7\n",
       "q5202     791\n",
       "q5203     791\n",
       "q5204     791\n",
       "q5206     791\n",
       "q5207     791\n",
       "q5208     791\n",
       "q5224    1192\n",
       "dtype: int64"
      ]
     },
     "execution_count": 15,
     "metadata": {},
     "output_type": "execute_result"
    }
   ],
   "source": [
    "df_V = df_V.dropna(thresh=10000, axis=1)\n",
    "nulls(df_V)"
   ]
  },
  {
   "cell_type": "code",
   "execution_count": 16,
   "metadata": {},
   "outputs": [],
   "source": [
    "df_V = df_V.replace(np.NaN, 'Not asked')"
   ]
  },
  {
   "cell_type": "code",
   "execution_count": 17,
   "metadata": {},
   "outputs": [
    {
     "data": {
      "text/plain": [
       "q20114       12486\n",
       "q20115       13498\n",
       "q20116       13498\n",
       "q20117       13674\n",
       "q20118       13674\n",
       "q20119       13447\n",
       "q202_insh     3615\n",
       "q2035         9895\n",
       "q2037        13447\n",
       "q20416       13498\n",
       "q20417       13498\n",
       "q20418       13498\n",
       "q20419       13674\n",
       "q2062           51\n",
       "q210             1\n",
       "q210a         2661\n",
       "q211          2661\n",
       "q211_insh     5448\n",
       "dtype: int64"
      ]
     },
     "execution_count": 17,
     "metadata": {},
     "output_type": "execute_result"
    }
   ],
   "source": [
    "df_II = df.loc[:,'q2011':'q240']\n",
    "nulls(df_II)"
   ]
  },
  {
   "cell_type": "code",
   "execution_count": 18,
   "metadata": {},
   "outputs": [
    {
     "data": {
      "text/plain": [
       "q202_insh    3615\n",
       "q2062          51\n",
       "q210            1\n",
       "q210a        2661\n",
       "q211         2661\n",
       "q211_insh    5448\n",
       "dtype: int64"
      ]
     },
     "execution_count": 18,
     "metadata": {},
     "output_type": "execute_result"
    }
   ],
   "source": [
    "df_II = df_II.dropna(thresh=8000, axis=1)\n",
    "nulls(df_II)"
   ]
  },
  {
   "cell_type": "code",
   "execution_count": 19,
   "metadata": {},
   "outputs": [],
   "source": [
    "df_II = df_II.replace(np.NaN, 'Not asked')"
   ]
  },
  {
   "cell_type": "code",
   "execution_count": 20,
   "metadata": {},
   "outputs": [
    {
     "data": {
      "text/plain": [
       "q4063    1014\n",
       "q4101    7277\n",
       "q4102    7277\n",
       "q4103    7277\n",
       "q4111    7278\n",
       "q4112    7277\n",
       "q4113    7277\n",
       "q4114    7277\n",
       "q4115    7277\n",
       "dtype: int64"
      ]
     },
     "execution_count": 20,
     "metadata": {},
     "output_type": "execute_result"
    }
   ],
   "source": [
    "df_IV = df.loc[:,'q402':'q4115']\n",
    "nulls(df_IV)"
   ]
  },
  {
   "cell_type": "code",
   "execution_count": 21,
   "metadata": {},
   "outputs": [],
   "source": [
    "df_IV = df_IV.replace(np.NaN, 'Not asked')\n",
    "df_IV = df_IV.drop(columns='q404')"
   ]
  },
  {
   "cell_type": "code",
   "execution_count": 22,
   "metadata": {},
   "outputs": [],
   "source": [
    "X = pd.concat([df_II, df_IV, df_V, df_VI, df_VII], axis=1)\n",
    "y = df['target']"
   ]
  },
  {
   "cell_type": "code",
   "execution_count": 23,
   "metadata": {},
   "outputs": [],
   "source": [
    "X_train, X_test, y_train, y_test = train_test_split(X, y, test_size=.2, random_state=42)"
   ]
  },
  {
   "cell_type": "code",
   "execution_count": 24,
   "metadata": {
    "collapsed": true
   },
   "outputs": [
    {
     "data": {
      "text/plain": [
       "Pipeline(steps=[('ordinalencoder',\n",
       "                 OrdinalEncoder(cols=['q2011', 'q2013', 'q2014', 'q2016',\n",
       "                                      'q2017', 'q20112', 'q20113', 'q202',\n",
       "                                      'q202_insh', 'q2031', 'q2032', 'q2033',\n",
       "                                      'q2034', 'q2042', 'q2043', 'q2044',\n",
       "                                      'q20412', 'q2054', 'q2055', 'q2061',\n",
       "                                      'q2062', 'q210', 'q210a', 'q211',\n",
       "                                      'q211_insh', 'q213', 'q214', 'q216',\n",
       "                                      'q217', 'q2185', ...],\n",
       "                                mapping=[{'col': 'q2011',\n",
       "                                          'data_type': dtype('O')...\n",
       "Refuse                 6\n",
       "NaN                   -2\n",
       "dtype: int64},\n",
       "                                         {'col': 'q217',\n",
       "                                          'data_type': dtype('O'),\n",
       "                                          'mapping': No            1\n",
       "Yes           2\n",
       "Don't know    3\n",
       "Refuse        4\n",
       "Missing       5\n",
       "NaN          -2\n",
       "dtype: int64},\n",
       "                                         {'col': 'q2185',\n",
       "                                          'data_type': dtype('O'),\n",
       "                                          'mapping': I disagree             1\n",
       "Don't know             2\n",
       "I strongly disagree    3\n",
       "I strongly agree       4\n",
       "I agree                5\n",
       "Refuse                 6\n",
       "Missing                7\n",
       "NaN                   -2\n",
       "dtype: int64}, ...])),\n",
       "                ('randomforestclassifier',\n",
       "                 RandomForestClassifier(n_estimators=500, random_state=42))])"
      ]
     },
     "execution_count": 24,
     "metadata": {},
     "output_type": "execute_result"
    }
   ],
   "source": [
    "model = make_pipeline(\n",
    "    OrdinalEncoder(),\n",
    "    RandomForestClassifier(n_estimators=500, max_leaf_nodes=None, random_state=42)\n",
    ")\n",
    "\n",
    "model.fit(X_train, y_train)"
   ]
  },
  {
   "cell_type": "code",
   "execution_count": 25,
   "metadata": {
    "scrolled": true
   },
   "outputs": [
    {
     "data": {
      "text/plain": [
       "0.6848196051735874"
      ]
     },
     "execution_count": 25,
     "metadata": {},
     "output_type": "execute_result"
    }
   ],
   "source": [
    "model.score(X_test, y_test)"
   ]
  },
  {
   "cell_type": "code",
   "execution_count": 26,
   "metadata": {},
   "outputs": [],
   "source": [
    "# fig, ax = plt.subplots(figsize=[6,6])\n",
    "\n",
    "# plot_roc_curve(model, X_test, y_test, ax=ax)\n",
    "\n",
    "# plt.show()"
   ]
  },
  {
   "cell_type": "code",
   "execution_count": 27,
   "metadata": {},
   "outputs": [],
   "source": [
    "labels = X.columns\n",
    "importances = model.named_steps['randomforestclassifier'].feature_importances_\n",
    "important_df = pd.Series(importances, index=labels)"
   ]
  },
  {
   "cell_type": "code",
   "execution_count": 28,
   "metadata": {
    "scrolled": true
   },
   "outputs": [
    {
     "data": {
      "text/plain": [
       "q50110    0.001092\n",
       "q5014     0.001892\n",
       "q5015     0.001917\n",
       "q5012     0.001995\n",
       "q501b     0.002188\n",
       "            ...   \n",
       "q512      0.010683\n",
       "q240      0.010868\n",
       "q530      0.011311\n",
       "q503      0.012211\n",
       "q4061     0.014406\n",
       "Length: 169, dtype: float64"
      ]
     },
     "execution_count": 28,
     "metadata": {},
     "output_type": "execute_result"
    }
   ],
   "source": [
    "important_df.sort_values()"
   ]
  },
  {
   "cell_type": "code",
   "execution_count": 29,
   "metadata": {},
   "outputs": [
    {
     "name": "stdout",
     "output_type": "stream",
     "text": [
      "              precision    recall  f1-score   support\n",
      "\n",
      "          No       0.69      0.44      0.54      1225\n",
      "         Yes       0.68      0.86      0.76      1713\n",
      "\n",
      "    accuracy                           0.68      2938\n",
      "   macro avg       0.69      0.65      0.65      2938\n",
      "weighted avg       0.69      0.68      0.67      2938\n",
      "\n"
     ]
    }
   ],
   "source": [
    "print(classification_report(y_test, model.predict(X_test)))"
   ]
  },
  {
   "cell_type": "code",
   "execution_count": null,
   "metadata": {},
   "outputs": [],
   "source": []
  }
 ],
 "metadata": {
  "jupytext": {
   "cell_metadata_filter": "-all",
   "main_language": "python",
   "notebook_metadata_filter": "-all"
  },
  "kernelspec": {
   "display_name": "Python 3",
   "language": "python",
   "name": "python3"
  },
  "language_info": {
   "codemirror_mode": {
    "name": "ipython",
    "version": 3
   },
   "file_extension": ".py",
   "mimetype": "text/x-python",
   "name": "python",
   "nbconvert_exporter": "python",
   "pygments_lexer": "ipython3",
   "version": "3.8.6rc1"
  }
 },
 "nbformat": 4,
 "nbformat_minor": 2
}
